{
 "cells": [
  {
   "cell_type": "code",
   "execution_count": 2,
   "metadata": {},
   "outputs": [],
   "source": [
    "import warnings\n",
    "warnings.filterwarnings('ignore')"
   ]
  },
  {
   "cell_type": "code",
   "execution_count": 3,
   "metadata": {},
   "outputs": [],
   "source": [
    "from facebook_scraper import  get_posts,get_page_info\n",
    "import pandas as pd"
   ]
  },
  {
   "cell_type": "code",
   "execution_count": 4,
   "metadata": {},
   "outputs": [
    {
     "data": {
      "text/plain": [
       "True"
      ]
     },
     "execution_count": 4,
     "metadata": {},
     "output_type": "execute_result"
    }
   ],
   "source": [
    "def validate_page(page_name):\n",
    "    page = get_page_info(page_name)\n",
    "    return True if len(page) > 0 else False\n",
    "\n",
    "validate_page('Google')"
   ]
  },
  {
   "cell_type": "code",
   "execution_count": 4,
   "metadata": {},
   "outputs": [],
   "source": [
    "\n",
    "def get_fb_posts(page_name):\n",
    "    posts = get_posts(page_name, pages=5, options={\"comments\": True})\n",
    "    return posts    "
   ]
  },
  {
   "cell_type": "code",
   "execution_count": 5,
   "metadata": {},
   "outputs": [],
   "source": [
    "def extract_data(posts):\n",
    "    list_of_posts = list()\n",
    "    list_of_comments = list()\n",
    "    \n",
    "    for post in posts:\n",
    "        list_of_posts.append(\n",
    "        {\n",
    "        \"post_id\": post[\"post_id\"],\n",
    "        \"time_stamp\": post[\"timestamp\"],\n",
    "        \"text\": post[\"text\"],\n",
    "        \"likes\": post[\"likes\"],\n",
    "        \"comments\": post[\"comments\"],\n",
    "        \"comments_full\": post[\"comments_full\"],\n",
    "        }\n",
    "        )\n",
    "        for comment in list_of_posts[-1][\"comments_full\"]:\n",
    "            list_of_comments.append(comment[\"comment_text\"])\n",
    "\n",
    "    return list_of_comments,list_of_posts"
   ]
  },
  {
   "cell_type": "code",
   "execution_count": null,
   "metadata": {},
   "outputs": [],
   "source": []
  },
  {
   "cell_type": "code",
   "execution_count": 6,
   "metadata": {},
   "outputs": [],
   "source": [
    "def save_to_desk(list_of_comments,list_of_posts,page_name):\n",
    "    df_posts = pd.DataFrame(list_of_posts)\n",
    "    df_comments = pd.DataFrame(list_of_comments)\n",
    "    df_posts.to_csv(\"./data/%s_posts.csv\" % page_name, header=True, index=False)\n",
    "    df_comments.to_csv('./data/%s_comments.txt'% page_name,sep=' ', index=True, header=False)\n",
    "    "
   ]
  },
  {
   "cell_type": "code",
   "execution_count": 7,
   "metadata": {},
   "outputs": [
    {
     "name": "stderr",
     "output_type": "stream",
     "text": [
      "C:\\Users\\Odeh\\AppData\\Local\\pypoetry\\Cache\\virtualenvs\\social-react-UnZgFUxo-py3.9\\lib\\site-packages\\dateparser\\date_parser.py:35: PytzUsageWarning: The localize method is no longer necessary, as this time zone supports the fold attribute (PEP 495). For more details on migrating to a PEP 495-compliant implementation, see https://pytz-deprecation-shim.readthedocs.io/en/latest/migration.html\n",
      "  date_obj = stz.localize(date_obj)\n"
     ]
    }
   ],
   "source": [
    "pages = ['RealMadrid','Google','cnninternational','ASAC.LTUC']\n",
    "\n",
    "posts = get_posts_by_page_name('Google')\n",
    "list_of_comments,list_of_posts = extract_data(posts)\n",
    "save_to_desk(list_of_comments,list_of_posts,'Google')"
   ]
  },
  {
   "cell_type": "code",
   "execution_count": null,
   "metadata": {},
   "outputs": [],
   "source": []
  }
 ],
 "metadata": {
  "interpreter": {
   "hash": "4937b7e45da69717d63d8e306a95ee3c5bf0f61f42310ec6a21955348a9a4580"
  },
  "kernelspec": {
   "display_name": "Python 3.9.7 64-bit ('social-react-UnZgFUxo-py3.9': poetry)",
   "language": "python",
   "name": "python3"
  },
  "language_info": {
   "codemirror_mode": {
    "name": "ipython",
    "version": 3
   },
   "file_extension": ".py",
   "mimetype": "text/x-python",
   "name": "python",
   "nbconvert_exporter": "python",
   "pygments_lexer": "ipython3",
   "version": "3.9.7"
  },
  "orig_nbformat": 4
 },
 "nbformat": 4,
 "nbformat_minor": 2
}
